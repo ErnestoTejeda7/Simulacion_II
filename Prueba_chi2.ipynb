{
  "nbformat": 4,
  "nbformat_minor": 0,
  "metadata": {
    "colab": {
      "provenance": [],
      "authorship_tag": "ABX9TyN0unKhwi7RrWqGhD0xzFXn",
      "include_colab_link": true
    },
    "kernelspec": {
      "name": "python3",
      "display_name": "Python 3"
    },
    "language_info": {
      "name": "python"
    }
  },
  "cells": [
    {
      "cell_type": "markdown",
      "metadata": {
        "id": "view-in-github",
        "colab_type": "text"
      },
      "source": [
        "<a href=\"https://colab.research.google.com/github/ErnestoTejeda7/Simulacion_II/blob/main/Prueba_chi2.ipynb\" target=\"_parent\"><img src=\"https://colab.research.google.com/assets/colab-badge.svg\" alt=\"Open In Colab\"/></a>"
      ]
    },
    {
      "cell_type": "markdown",
      "source": [
        "# PRUEBA DE UNIFORMIDAD $\\chi^2$ #"
      ],
      "metadata": {
        "id": "xgSqg5Dw1IQk"
      }
    },
    {
      "cell_type": "code",
      "source": [
        "def prueba_chi2(lista, confianza):\n",
        "  \"\"\"\n",
        "  Función que realiza la prueba de bondad de ajuste de un conjunto de datos vs la distribucion uniforme (0,1)\n",
        "\n",
        "  Parametos\n",
        "  lista es El conjunto de datos\n",
        "  confianza: puede ser .90, .95, .98, etc\n",
        "  \"\"\"\n",
        "  datos = np.array(lista)\n",
        "  n = np.size(datos) #numero de datos / tamaño de la muestra\n",
        "  num_clases = int(np.sqrt(n))\n",
        "\n",
        "  l1=[0]\n",
        "  l2=[]\n",
        "  #calculamos el conteo observado de cada clase\n",
        "  observados = np.array([])\n",
        "  for i in range(num_clases):\n",
        "    intervalo = (i+1)/num_clases\n",
        "    l1.append(intervalo)\n",
        "    l2.append(intervalo)\n",
        "    #conteo de cada clase:\n",
        "    c = np.sum(datos<intervalo) - np.sum(datos<((i)/num_clases))\n",
        "    observados = np.append(observados,c)\n",
        "\n",
        "\n",
        "  #calculamos el valor esperado de cada clase\n",
        "  esperados = np.array([n/num_clases]*num_clases)\n",
        "\n",
        "  #calculamos la diferencia y el estadistico X2\n",
        "  diferencia = observados-esperados\n",
        "  x2_i = (np.square(diferencia))/(n/num_clases)\n",
        "\n",
        "  #El estadistico final es\n",
        "  x2=np.sum(x2_i)\n",
        "\n",
        "  #Damos presentacion en un df\n",
        "  l=zip(l1,l2)\n",
        "  l = [str(tupla) for tupla in l]\n",
        "  df = pd.DataFrame({\n",
        "    'clases': list(l),\n",
        "    'O_i': observados,\n",
        "    'E_i': esperados,\n",
        "    'O_i-E_i': diferencia,\n",
        "    '(O_i-E_i)^2/E_i':x2_i\n",
        "})\n",
        "  print(\"El estadístico de prueba es: \" , x2,\"\\n\")\n",
        "  gl=num_clases-1\n",
        "  v_crit= chi2.ppf(confianza,gl)\n",
        "  print(f\"Con {gl} gl y un nivel de confianza {confianza}, el valor crítico es {v_crit}\",\"\\n\")\n",
        "\n",
        "  print(df)\n",
        "\n",
        "  if(x2<v_crit):\n",
        "    print(\"\\n\",\"No se rechaza la hipotesis nula\")\n",
        "  else:\n",
        "    print(\"\\n\",\"Se rechaza la hipotesis nula\")"
      ],
      "metadata": {
        "id": "SxPsvaxC1CKJ"
      },
      "execution_count": 117,
      "outputs": []
    },
    {
      "cell_type": "code",
      "source": [
        "from scipy.stats import chi2\n",
        "import numpy as np\n",
        "import pandas as pd"
      ],
      "metadata": {
        "id": "Ro0H8vL67Hrx"
      },
      "execution_count": 118,
      "outputs": []
    },
    {
      "cell_type": "code",
      "source": [
        "lista = [0.8797, 0.3884,0.6289, 0.875,\n",
        " 0.5999, 0.8589, 0.9996, 0.2415,\n",
        " 0.3808, 0.9606, 0.9848, 0.3469,\n",
        " 0.7977, 0.5844, 0.8147, 0.6431,\n",
        " 0.7387, 0.5613, 0.0318, 0.7401,\n",
        " 0.4557, 0.1592, 0.8536, 0.8846,\n",
        " 0.341, 0.1492, 0.8681, 0.5291,\n",
        " 0.3188, 0.5992, 0.917, 0.2204,\n",
        " 0.5991, 0.5461, 0.5739, 0.3254,\n",
        " 0.0856, 0.2258, 0.4603, 0.5027,\n",
        " 0.8376, 0.6235, 0.3681, 0.2088,\n",
        " 0.1525, 0.2006, 0.472, 0.4272,\n",
        " 0.636, 0.0954,]"
      ],
      "metadata": {
        "id": "deVYJwcMCx8m"
      },
      "execution_count": 121,
      "outputs": []
    },
    {
      "cell_type": "code",
      "source": [
        "prueba_chi2(lista, 0.95)"
      ],
      "metadata": {
        "colab": {
          "base_uri": "https://localhost:8080/"
        },
        "id": "OjL4oZSXDWja",
        "outputId": "b2d3a6d7-7961-418c-9a16-6e697875f2a3"
      },
      "execution_count": 122,
      "outputs": [
        {
          "output_type": "stream",
          "name": "stdout",
          "text": [
            "El estadístico de prueba es:  17.6 \n",
            "\n",
            "Con 9 gl y un nivel de confianza 0.95, el valor crítico es 16.918977604620448 \n",
            "\n",
            "       clases   O_i   E_i  O_i-E_i  (O_i-E_i)^2/E_i\n",
            "0    (0, 0.1)   6.0  10.0     -4.0              1.6\n",
            "1  (0.1, 0.2)   6.0  10.0     -4.0              1.6\n",
            "2  (0.2, 0.3)  10.0  10.0      0.0              0.0\n",
            "3  (0.3, 0.4)  14.0  10.0      4.0              1.6\n",
            "4  (0.4, 0.5)   8.0  10.0     -2.0              0.4\n",
            "5  (0.5, 0.6)  18.0  10.0      8.0              6.4\n",
            "6  (0.6, 0.7)   8.0  10.0     -2.0              0.4\n",
            "7  (0.7, 0.8)   6.0  10.0     -4.0              1.6\n",
            "8  (0.8, 0.9)  16.0  10.0      6.0              3.6\n",
            "9  (0.9, 1.0)   8.0  10.0     -2.0              0.4\n",
            "\n",
            " Se rechaza la hipotesis nula\n"
          ]
        }
      ]
    },
    {
      "cell_type": "code",
      "source": [],
      "metadata": {
        "id": "naFfLxoCDgjD"
      },
      "execution_count": 122,
      "outputs": []
    }
  ]
}