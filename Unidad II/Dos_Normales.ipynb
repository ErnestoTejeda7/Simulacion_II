{
 "cells": [
  {
   "cell_type": "markdown",
   "id": "a5cc0a87",
   "metadata": {},
   "source": [
    "# Métodología para el problema de la flecha en el cojinete.\n"
   ]
  },
  {
   "cell_type": "markdown",
   "id": "0e218d98",
   "metadata": {},
   "source": [
    "### 1. Identifique las variables \n",
    "\n",
    "Aquellas cuyo comportamiento define el comportamiento o la evoución global del sistema real."
   ]
  },
  {
   "cell_type": "markdown",
   "id": "3ebcd0f2",
   "metadata": {},
   "source": [
    "### 2. Determine la distribución de probabilidad\n",
    "\n",
    "Elija el tipo de distribución de probabilidad que mejor defina el comportamiento aleatorio de cada una de las variables del sistema identificadas en el paso anterior."
   ]
  },
  {
   "cell_type": "markdown",
   "id": "803801d5",
   "metadata": {},
   "source": [
    "### 3. Modele las variables aleatorias \n",
    "\n",
    "Cosntruya un modelo fiel de la aleatoriedad de las variables del sistema. Simular el comportamiento del sistema implica generar muestras aleatorias de cada variable que sigan fielmente la distribución de probabilidad correspondiente."
   ]
  },
  {
   "cell_type": "markdown",
   "id": "33709223",
   "metadata": {},
   "source": [
    "### 4. Defina el modelo del sistema y los objetivos de la simulación \n",
    "\n",
    "Fije los objetivos y diseñe un modelo del sistema real que abstraiga sus propiedades más relevantes. Todo error en el modelo (o su implementación computacional) puede dar lugar a conclusiones equivocadas. \n",
    "\n",
    "Antes de experimentar con el modelo, asegurarse de que refleja fielmente el sistema real **validando** el mismo a partir de datos reales, para ello compare los resultados obtenidos de la simulación con los producidos por el sistema."
   ]
  },
  {
   "cell_type": "markdown",
   "id": "7f853065",
   "metadata": {},
   "source": [
    "### 5. Diseñe el experimento\n",
    "\n",
    "Diseñe un experimento así como las ejecuciones concretas del mismo, los escenarios que desea estudiar para alcanzar los objetivos fijados. El experimento consiste en generar valores de las variables cuyo comportamiento define el comportamiento del sistema y analizar este ante dichos valores."
   ]
  },
  {
   "cell_type": "markdown",
   "id": "15ae61c8",
   "metadata": {},
   "source": [
    "### 6. Repita el experimento $n$ veces \n",
    "\n",
    "Así dispondrá de $n$ observaciones sobre el comportamiento del sistema, lo que permitirá entender su funcionamiento así como evaluar el desempeño del mismo frente a los diversos escenarios establecidos.\n",
    "\n",
    "El **método Monte Carlo** se basa en la **Ley Fuerte de los Grandes Números** y el **Teorema del Límite Central**."
   ]
  },
  {
   "cell_type": "markdown",
   "id": "51ce3fa1",
   "metadata": {},
   "source": [
    "# Ejercicio\n",
    "\n",
    "Una flecha será ensamblada en un cojinete. Si $X_1$ sigue una distribución Normal con media 1.5 y varianza de 0.0016, ademas $x_2$ sigue la misma distribución pero con media 1.48 y varianza 0.0009.\n",
    "\n",
    "**a)** Calcule la probabilidad que haya interferencia. \n",
    "\n",
    "**b)** Calcule el Número de veces que es necesario realizar la simulación del experimento si quiere que la probabilidad simulada no difiera de su valor real en menos de 0.01 con un nivel de confianza del 95%.\n",
    "1. Analíticamente.\n",
    "2. Mediante simulación."
   ]
  },
  {
   "cell_type": "markdown",
   "id": "6f1b4105",
   "metadata": {},
   "source": [
    "# **Analiticamente**\n",
    "a) Por teoria sabemos que la suma de dos variables aleatorias normales se distribuyen de manera normal, y lo mismo aplica para restas, es decir si $X_1 \\sim N(\\mu_1,\\sigma_1)$ el diametro del cojinete, y $X_2 \\sim  (\\mu_2, \\sigma_2)$ entonces $X=X_1-X_2 \\sim N\\left(\\mu_1-\\mu_2, \\sqrt{\\sigma_1^2+\\sigma_2^2}\\right) $ si y solo si $X_1$ y $X_2$ son independientes.\n",
    "\n",
    "Sea $X_1 \\sim N(1.5,0.04)$ el diametro del cojinete, y $X_2 \\sim  (1.48, 0.03)$ el diametro de la flecha.\n",
    "\n",
    "Definamos $X=X_1-X_2$, la variable aleatoria que explica que el diametro del cojinete sea mayor que el diametro diametro de la flecha, $X \\sim N\\left(\\mu_1-\\mu_2, \\sqrt{\\sigma_1^2+\\sigma_1^2}\\right)$, entonces , $X \\sim N\\left(0.02, 0.05\\right)$, así del problema buscamos que\n",
    "\\begin{gather*}\n",
    "P(X<0)\n",
    "\\end{gather*}\n",
    "\n",
    "Ahora calculamos el valor $Z=\\frac{x-\\mu}{\\sigma}$,entonces con nuestro valores $Z=\\frac{-0.02}{0.05}=-0.04$, y con las tablas de probabilidad para distribución normal obtenemos que $P(Z<-0.04)=0.3446$, o lo que es equivalente $P(X<0)=0.3445$, que corresponde a la probabilidad de que haya interferencia.\n",
    "\n",
    "\n",
    "b) Del intervalo de confianza tenemos la siguiente condición, $\\mu \\leq \\overline{x}+ \\frac{Z_{\\alpha/2}\\sigma}{\\sqrt{N}}$ y buscamos determinar $\\mu - \\overline{x} \\leq 0.01$ con una confianza al 95%, lo cual implica que:\n",
    "\n",
    "\\begin{align*}\n",
    " \\frac{Z_{\\alpha/2}\\sigma}{\\sqrt{N}}&=0.01\\\\\n",
    "  \\frac{Z_{\\alpha/2}\\sigma}{0.01}&=\\sqrt{N}\\\\\n",
    "    \\frac{1.96\\sigma}{0.01}&=\\sqrt{N}\\\\\n",
    "    196\\sigma&=\\sqrt{N}\\\\\n",
    "    N&=(1.96)^2\\sigma^2\\\\\n",
    "    N&= 38416*Varianza(\\hat{p})\n",
    "\\end{align*}\n",
    "Recordando que la Varianza del estimador de la probabilidad puede verse como:\n",
    "\\begin{align*}\n",
    "Varianza\\left(\\frac{N_H}{N}\\right) &= \\frac{1}{N^2}N*p(1-p)\\\\\n",
    "&= \\frac{1}{N}p(1-p) \\quad \\quad \\text{Sabiendo que p(probabilidad teorica) = 0.3445}\\\\\n",
    "&= \\frac{1}{N}(0.3445)(1-0.3445)\n",
    "\\end{align*}\n",
    "Sustituyendo:\n",
    "\\begin{align*}\n",
    "    N&= 38416*\\frac{1}{N}(0.3445)(1-0.3445)\\\\\n",
    "    N^2&=38416(0.3445)(1-0.3445)\\\\\n",
    "    \\therefore N &= \\sqrt{38416(0.3445)(1-0.3445)} \\approx 94 \\quad\\blacksquare\n",
    "\\end{align*}"
   ]
  },
  {
   "cell_type": "markdown",
   "id": "564ca694",
   "metadata": {},
   "source": [
    "# **Por simulación: Construimos el modelo en varios pasos.**"
   ]
  },
  {
   "cell_type": "markdown",
   "id": "fbbc8571",
   "metadata": {},
   "source": [
    "**PASO 1**. Defina las variables que intervienen en el modelo."
   ]
  },
  {
   "cell_type": "markdown",
   "id": "019bc684-77fc-4b5d-8a93-e2134013d971",
   "metadata": {},
   "source": [
    "Definimos $x_1 \\sim N(1.5, \\sqrt{0.0016})$ y $x_2 \\sim N(1.48, \\sqrt{0.0009})$ como varibles aleatorias que nos sirven generar muestras aleatorias de una distribución Normal."
   ]
  },
  {
   "cell_type": "markdown",
   "id": "4d3899f3",
   "metadata": {},
   "source": [
    "**PASO 2**. Formule la distribución de probabilidad de cada variable."
   ]
  },
  {
   "cell_type": "markdown",
   "id": "8fde011a-cd9e-4c51-b611-29ddd913ab0f",
   "metadata": {},
   "source": [
    "$$\n",
    "f(x_1)= \\frac{1}{0.4\\sqrt{2\\pi}}e^{\\frac{(x_1-1.5)^2}{2*0.0016}}\n",
    "$$\n",
    "\n",
    "$$\n",
    "f(x_2)= \\frac{1}{0.3\\sqrt{2\\pi}}e^{\\frac{(x_2-1.48)^2}{2*0.0009}}\n",
    "$$"
   ]
  },
  {
   "cell_type": "markdown",
   "id": "fd02116a",
   "metadata": {},
   "source": [
    "**PASO 3**. Enumere la distribución acumulada de probabilidad de cada variable."
   ]
  },
  {
   "cell_type": "markdown",
   "id": "2fccd3c3-6ba0-4dae-ae20-90e22339fd77",
   "metadata": {},
   "source": [
    "$$\n",
    "F(x_1)= \\frac{1}{2} \\left[ 1+\\text{erf}\\left( \\frac{x_1-1.5}{0.04\\sqrt{2}}\\right)\\right]\n",
    "$$\n",
    "\n",
    "$$\n",
    "F(x_2)= \\frac{1}{2} \\left[ 1+\\text{erf}\\left( \\frac{x_2-1.48}{0.03\\sqrt{2}}\\right)\\right]\n",
    "$$"
   ]
  },
  {
   "cell_type": "markdown",
   "id": "4852dcac",
   "metadata": {},
   "source": [
    "**PASO 4**. Establezca el intervalo de números aleatorios correspondiente a cada valor de cada una de las variables."
   ]
  },
  {
   "cell_type": "markdown",
   "id": "28749df7-394d-4f67-acf2-9d3416b39cb8",
   "metadata": {},
   "source": [
    "|    Variables |**x1**|**x2**|\n",
    "|------|-------|----------|\n",
    "|Intervalo|     ($-\\infty$,$\\infty$)   |  ($-\\infty$,$\\infty$)  |\n",
    "\n"
   ]
  },
  {
   "cell_type": "markdown",
   "id": "edb6b074",
   "metadata": {},
   "source": [
    "**PASO 5**. Genere números aleatorios."
   ]
  },
  {
   "cell_type": "code",
   "execution_count": 121,
   "id": "f63ca1d9-96fa-481f-92a2-8ebb1a68973b",
   "metadata": {},
   "outputs": [],
   "source": [
    "import numpy as np\n",
    "import random\n",
    "x1 = norm.ppf(random.random())*math.sqrt(0.0016)+1.5\n",
    "x2 = norm.ppf(random.random())*math.sqrt(0.0009)+1.48"
   ]
  },
  {
   "cell_type": "markdown",
   "id": "f38f3396",
   "metadata": {},
   "source": [
    "**PASO 6**. Simule un lanzamiento."
   ]
  },
  {
   "cell_type": "markdown",
   "id": "a68ba17e",
   "metadata": {},
   "source": [
    "Si $x_1$ - $x_2$<0\n",
    "\n",
    "¿Si ocurre lo de arriba? => **Acierto = 1**\n",
    "\n",
    "\n",
    "\n",
    "\n",
    "Si $x_1$ - $x_2\\geq$0\n",
    "\n",
    "¿Si ocurre lo de arriba? => **Acierto =0**"
   ]
  },
  {
   "cell_type": "markdown",
   "id": "d270399e",
   "metadata": {},
   "source": [
    "**PASO 7**. Obtenga la gráfica de estabilización que indica que el tamaño de muestra utilizado es suficiente para \n",
    "garantizar la convergencia del resultado."
   ]
  },
  {
   "cell_type": "code",
   "execution_count": 122,
   "id": "2fd22e33",
   "metadata": {},
   "outputs": [],
   "source": [
    "import numpy as np\n",
    "import random\n",
    "from scipy.stats import norm\n",
    "import math\n",
    "import matplotlib.pyplot as plt"
   ]
  },
  {
   "cell_type": "markdown",
   "id": "3d9e45b9-ca47-4e34-8c1e-0c104af797b9",
   "metadata": {},
   "source": [
    "# **Nota**"
   ]
  },
  {
   "cell_type": "code",
   "execution_count": 123,
   "id": "423546a4",
   "metadata": {},
   "outputs": [],
   "source": [
    "def experimentos(n): #Definimos una función que realizara \n",
    "  acierto = 0 #Contador que ira sumando las veces que caiga acierto en N cantidad de veces.\n",
    "  proba=[] #Guardara las probabilidades de que haya interferencia entre el cojinete y la flecha en la iteración i.\n",
    "  ensayos=[]\n",
    "  for i in range(1,n+1):\n",
    "      #x1 = (random.gauss(0, 1))*math.sqrt(0.0016) + 1.5\n",
    "      #x2 = (random.gauss(0, 1))*math.sqrt(0.0009) + 1.48 \n",
    "      x1 = norm.ppf(random.random())*math.sqrt(0.0016)+1.5\n",
    "      x2 = norm.ppf(random.random())*math.sqrt(0.0009)+1.48\n",
    "      if x1-x2 < 0:\n",
    "          acierto = acierto + 1\n",
    "      ensayos.append(i) #Se va guardando en una lista la iteración i.\n",
    "      proba.append(acierto/i) #Se va guardadndo la probabilidad de que haya interferencia entre el cojinete y la flecha en la iteración i\n",
    "  return area #Regresamos una lista de las probabilidades de que haya interferencia entre el cojinete y la flecha en la iteración i"
   ]
  },
  {
   "cell_type": "code",
   "execution_count": 124,
   "id": "0d2847cf",
   "metadata": {},
   "outputs": [],
   "source": [
    "exp = experimentos(1500) #Hara el experimento antes descrito 1500 veces, es decir, nos dara \n",
    "#1500 aproximaciones s la probabilidad para ver cuando se logra estabilizar."
   ]
  },
  {
   "cell_type": "code",
   "execution_count": 125,
   "id": "80e6e939-4848-4aa8-bef6-80d7640225c2",
   "metadata": {},
   "outputs": [
    {
     "data": {
      "text/plain": [
       "0.34571843010039127"
      ]
     },
     "execution_count": 125,
     "metadata": {},
     "output_type": "execute_result"
    }
   ],
   "source": [
    "np.mean(exp) #Saca la media de los experimentos, eso nos dará una idea de la aproximación al valor de la probabilidad."
   ]
  },
  {
   "cell_type": "code",
   "execution_count": 126,
   "id": "ef68f87c",
   "metadata": {},
   "outputs": [
    {
     "data": {
      "image/png": "[encoded data removed]",
      "text/plain": [
       "<Figure size 640x480 with 1 Axes>"
      ]
     },
     "metadata": {},
     "output_type": "display_data"
    }
   ],
   "source": [
    "plt.plot(exp) #Grafica la lista de aproximaciones de acuerdo a la cantidad de experimentos realizados.\n",
    "plt.xlabel('iteraciones')\n",
    "plt.ylabel('Aproximación en la iteración i')\n",
    "plt.title('Aproximación a la probabilidad')\n",
    "\n",
    "# Agrega una línea vertical en la iteración 750 que de manera visual es donde comienza el estado estable.\n",
    "plt.axvline(x=750, color='red', linestyle='--', label='Estado Estable en 750')\n",
    "\n",
    "plt.legend()  # Muestra la leyenda si es necesario\n",
    "plt.show()\n"
   ]
  },
  {
   "cell_type": "markdown",
   "id": "f596fcd1",
   "metadata": {},
   "source": [
    "**PASO 8**. Replique el modelo."
   ]
  },
  {
   "cell_type": "code",
   "execution_count": 127,
   "id": "b237f0d0",
   "metadata": {},
   "outputs": [],
   "source": [
    "def valor(repeticiones): #Esta función hara la simulación anterior muchas veces, es decir, hará \"repeticiones\" cantidad de veces\n",
    "    Proba = []\n",
    "    for i in range(repeticiones):\n",
    "        Area.append(np.mean(experimentos(750))) #Calcula la media de 750 experiementos unas N (repeticiones) cantidad de veces.\n",
    "    return Proba #Nos regresa N (repeticiones) medias de 750 experimentos cada una."
   ]
  },
  {
   "cell_type": "code",
   "execution_count": 128,
   "id": "d060db89",
   "metadata": {},
   "outputs": [],
   "source": [
    "N=94\n",
    "simulacion = valor(N)"
   ]
  },
  {
   "cell_type": "code",
   "execution_count": 129,
   "id": "7de3bcbd-40b0-4a15-8671-89309c3ae34e",
   "metadata": {},
   "outputs": [
    {
     "data": {
      "text/plain": [
       "0.3488556839452697"
      ]
     },
     "execution_count": 129,
     "metadata": {},
     "output_type": "execute_result"
    }
   ],
   "source": [
    "np.mean(simulacion) #Saca la media de las N simulaciones realizadas, eso nos dará una mejor de la aproximación al valor de la probabilidad."
   ]
  },
  {
   "cell_type": "code",
   "execution_count": 130,
   "id": "cc0b958d",
   "metadata": {},
   "outputs": [
    {
     "data": {
      "image/png": "[encoded data removed]",
      "text/plain": [
       "<Figure size 640x480 with 1 Axes>"
      ]
     },
     "metadata": {},
     "output_type": "display_data"
    }
   ],
   "source": [
    "plt.hist(simulacion) #Grafica las frecuencias de la aproximación a la probabilidad de las N simualciones con 750 experiementos cada una.\n",
    "plt.xlabel('iteraciones')\n",
    "plt.ylabel('Frecuencia')\n",
    "plt.title('Aproximación de probabilidad')\n",
    "plt.show()"
   ]
  },
  {
   "cell_type": "markdown",
   "id": "6e9bd469",
   "metadata": {},
   "source": [
    "**PASO 9**. Calcule la media de la probabilidad de que haya interferencia entre el cojinete y la flecha, además de si desviación estándar."
   ]
  },
  {
   "cell_type": "code",
   "execution_count": 131,
   "id": "dbeb0461",
   "metadata": {},
   "outputs": [],
   "source": [
    "media = np.mean(simulacion) #Calcula la media de esas N simulaciones\n",
    "var = np.var(simulacion) #Calcula la varianza de esas N simulaciones\n",
    "desv = np.std(simulacion) #Calcula la desvaicion de esas N simulaciones"
   ]
  },
  {
   "cell_type": "markdown",
   "id": "db8776d2",
   "metadata": {},
   "source": [
    "**PASO 10**. Halle el intervalo de confianza de la probabilidad de que haya interferencia entre el cojinete y la flech con un nivel de confianza del $95 \\%$.\n",
    "\\begin{equation*}\n",
    "\\overline{x}- Z_{\\frac{\\alpha}{2}}  \\cdot \\frac{S}{\\sqrt{N}} < \\mu < \\overline{x}+ Z_{\\frac{\\alpha}{2}}  \\cdot \\frac{S}{\\sqrt{N}}\n",
    "\\end{equation*}"
   ]
  },
  {
   "cell_type": "code",
   "execution_count": 132,
   "id": "e5132329",
   "metadata": {},
   "outputs": [
    {
     "name": "stdout",
     "output_type": "stream",
     "text": [
      "Entonces:  0.34374721540182823 < μ < 0.3539641524887112\n"
     ]
    }
   ],
   "source": [
    "from scipy.stats import norm #Importamos la libreria para poder obtener el valor de Z.\n",
    "alpha = 1 - 0.95 #Alpha es igual a 1 - la confianza del intervalo\n",
    "z_alpha_2 = norm.ppf(1-alpha / 2) #Mandamos a pedir el valor de Z para \\alpha/2, sabemos que si es el 95% de confienza, Z esta cercano al 1.96.\n",
    "l_inferior = media - z_alpha_2 * (desv / math.sqrt(N)) #Sacamos limite inferior por la formula\n",
    "l_superior = media + z_alpha_2 * (desv / math.sqrt(N)) #Sacamos limite superior por la formula\n",
    "print(\"Entonces: \", l_inferior, \"< \\u03BC <\", l_superior) #El intervalo en donde se encuentra el valor real a una confienza del 95%"
   ]
  },
  {
   "cell_type": "code",
   "execution_count": null,
   "id": "aecbce86-1775-4ab4-ad11-20aae236a2de",
   "metadata": {},
   "outputs": [],
   "source": []
  }
 ],
 "metadata": {
  "kernelspec": {
   "display_name": "Python 3 (ipykernel)",
   "language": "python",
   "name": "python3"
  },
  "language_info": {
   "codemirror_mode": {
    "name": "ipython",
    "version": 3
   },
   "file_extension": ".py",
   "mimetype": "text/x-python",
   "name": "python",
   "nbconvert_exporter": "python",
   "pygments_lexer": "ipython3",
   "version": "3.9.7"
  }
 },
 "nbformat": 4,
 "nbformat_minor": 5
}
