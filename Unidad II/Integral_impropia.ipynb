{
  "cells": [
    {
      "cell_type": "markdown",
      "metadata": {
        "id": "view-in-github",
        "colab_type": "text"
      },
      "source": [
        "<a href=\"https://colab.research.google.com/github/ErnestoTejeda7/Simulacion_II/blob/main/Unidad%20II/Integral_impropia.ipynb\" target=\"_parent\"><img src=\"https://colab.research.google.com/assets/colab-badge.svg\" alt=\"Open In Colab\"/></a>"
      ]
    },
    {
      "cell_type": "markdown",
      "id": "a5cc0a87",
      "metadata": {
        "id": "a5cc0a87"
      },
      "source": [
        "# Metodología de la Simulación\n",
        "\n",
        "# Cálculo de la integral\n",
        "\n",
        "$$I = \\int_0^∞ x(1+x^2)^{-2}\\ dx$$"
      ]
    },
    {
      "cell_type": "markdown",
      "id": "0e218d98",
      "metadata": {
        "id": "0e218d98"
      },
      "source": [
        "### 1. Identifique las variables  \n",
        "\n",
        "Aquellas cuyo comportamiento define el comportamiento o la evoución global del sistema real.\n",
        "\n"
      ]
    },
    {
      "cell_type": "markdown",
      "id": "3ebcd0f2",
      "metadata": {
        "id": "3ebcd0f2"
      },
      "source": [
        "### 2. Determine la distribución de probabilidad\n",
        "\n",
        "Elija el tipo de distribución de probabilidad que mejor defina el comportamiento aleatorio de cada una de las variables del sistema identificadas en el paso anterior.\n"
      ]
    },
    {
      "cell_type": "markdown",
      "id": "803801d5",
      "metadata": {
        "id": "803801d5"
      },
      "source": [
        "### 3. Modele las variables aleatorias\n",
        "\n",
        "Cosntruya un modelo fiel de la aleatoriedad de las variables del sistema. Simular el comportamiento del sistema implica generar muestras aleatorias de cada variable que sigan fielmente la distribución de probabilidad correspondiente.\n"
      ]
    },
    {
      "cell_type": "markdown",
      "id": "33709223",
      "metadata": {
        "id": "33709223"
      },
      "source": [
        "### 4. Defina el modelo del sistema y los objetivos de la simulación\n",
        "\n",
        "Fije los objetivos y diseñe un modelo del sistema real que abstraiga sus propiedades más relevantes. Todo error en el modelo (o su implementación computacional) puede dar lugar a conclusiones equivocadas.\n",
        "\n",
        "Antes de experimentar con el modelo, asegurarse de que refleja fielmente el sistema real **validando** el mismo a partir de datos reales, para ello compare los resultados obtenidos de la simulación con los producidos por el sistema.\n",
        "\n"
      ]
    },
    {
      "cell_type": "markdown",
      "id": "7f853065",
      "metadata": {
        "id": "7f853065"
      },
      "source": [
        "### 5. Diseñe el experimento\n",
        "\n",
        "Diseñe un experimento así como las ejecuciones concretas del mismo, los escenarios que desea estudiar para alcanzar los objetivos fijados. El experimento consiste en generar valores de las variables cuyo comportamiento define el comportamiento del sistema y analizar este ante dichos valores."
      ]
    },
    {
      "cell_type": "markdown",
      "id": "15ae61c8",
      "metadata": {
        "id": "15ae61c8"
      },
      "source": [
        "### 6. Repita el experimento $n$ veces\n",
        "\n",
        "Así dispondrá de $n$ observaciones sobre el comportamiento del sistema, lo que permitirá entender su funcionamiento así como evaluar el desempeño del mismo frente a los diversos escenarios establecidos.\n",
        "\n",
        "El **método Monte Carlo** se basa en la **Ley Fuerte de los Grandes Números** y el **Teorema del Límite Central**."
      ]
    },
    {
      "cell_type": "markdown",
      "id": "51ce3fa1",
      "metadata": {
        "id": "51ce3fa1"
      },
      "source": [
        "# CÁLCULO DE  LA INTEGRAL\n",
        "\n",
        "\n",
        "$$I = \\int_0^∞ x(1+x^2)^{-2}\\ dx$$\n",
        "1. Analíticamente.\n",
        "2. Mediante simulación."
      ]
    },
    {
      "cell_type": "markdown",
      "id": "6f1b4105",
      "metadata": {
        "id": "6f1b4105"
      },
      "source": [
        "Analiticamente:"
      ]
    },
    {
      "cell_type": "markdown",
      "source": [
        "\\begin{align*}\n",
        "I = \\int_0^∞ x(1+x^2)^{-2}\\ dx &= \\lim_{b\\to\\infty} \\int_0^{b} x(1+x^2)^{-2}\\ dx\\\\\n",
        "\\end{align*}\n",
        "\n",
        "Usamos el cambio de variable $u=1+x^2 \\ ⇒ \\ du = 2x dx $\n",
        "\n",
        "\\begin{align*}\n",
        "I = \\lim_{b\\to\\infty} \\int_0^{b} x(1+x^2)^{-2}\\ dx &= \\lim_{b\\to\\infty} \\frac{1}{2}\\int_1^{b} u^{-2}\\ du\\\\\n",
        "&=\\lim_{b\\to\\infty} -\\frac{1}{2}\\cdot u^{-1}\\Bigg|_1^{b}\\\\\n",
        "&=-\\frac{1}{2}\\cdot(\\lim_{b\\to\\infty} \\frac{1}{b} - \\frac{1}{1})\\\\\n",
        "&=-\\frac{1}{2}\\cdot(0 - 1)\\\\\n",
        "&=\\frac{1}{2}\n",
        "\\end{align*}\n",
        "\n"
      ],
      "metadata": {
        "id": "ge9wzcYo18Jh"
      },
      "id": "ge9wzcYo18Jh"
    },
    {
      "cell_type": "markdown",
      "source": [
        "Por tanto\n",
        "**$$I = \\int_0^∞ x(1+x^2)^{-2}\\ dx = \\frac{1}{2}$$**"
      ],
      "metadata": {
        "id": "0YH2095r56si"
      },
      "id": "0YH2095r56si"
    },
    {
      "cell_type": "markdown",
      "id": "564ca694",
      "metadata": {
        "id": "564ca694"
      },
      "source": [
        "Por simulación: Construimos el modelo en varios pasos."
      ]
    },
    {
      "cell_type": "markdown",
      "id": "fbbc8571",
      "metadata": {
        "id": "fbbc8571"
      },
      "source": [
        "**PASO 1**. Defina las variables que intervienen en el modelo."
      ]
    },
    {
      "cell_type": "markdown",
      "source": [
        "En este caso no podemos hacer directamente el cálculo de la integral vía Simulación ya que los límites de la integral no son finitos.\n",
        "\n",
        "Entonces proponemos el siguiente cambio de variable:\n",
        "\n",
        "$$u=\\frac{1}{1+x}$$\n",
        "\n",
        "luego\n",
        "$$x = \\frac{1}{u}-1 \\qquad dx=-\\frac{1}{u^2}\\ du$$\n",
        "\n",
        "y sustituyendo en la integral original:\n",
        "\n",
        "\\begin{align*}\n",
        "I = \\int_0^∞ x(1+x^2)^{-2}\\ dx &= \\int_1^0 \\left(\\frac{1}{u}-1 \\right) \\left(1+(\\frac{1}{u}-1)^2 \\right)^{-2} \\left(-\\frac{1}{u^2}\\right)\\ du\\\\\n",
        "&= -\\int_1^0 \\left(\\frac{1}{u^3}-\\frac{1}{u^2} \\right) \\left(1+(\\frac{1}{u}-1)^2 \\right)^{-2} \\ du\\\\\n",
        "&= \\int_0^1 \\left(\\frac{1}{u^3}-\\frac{1}{u^2} \\right) \\left(1+(\\frac{1}{u}-1)^2 \\right)^{-2} \\ du\\\\\n",
        "\\end{align*}\n",
        "\n",
        "donde hemos hecho uso de la propiedad\n",
        "\n",
        "\\begin{align*}\n",
        "\\int_a^bf(x)dx \\ =\\ -\\int_b^af(x)dx\\\\\n",
        "\\end{align*}\n",
        "\n",
        "para obtener la última igualdad.\n",
        "\n",
        "En este caso el espacio muestral o universo está dado por el ractángulo.\n",
        "\n",
        "\\begin{align*}\n",
        "\\Omega = \\{ (x,y) | a\\leq x \\leq b,\\ 0\\leq y \\leq c\\}\\\\\n",
        "\\end{align*}\n",
        "\n",
        "con \\\\\n",
        "$a$ = 0, \\\\\n",
        "$b$ = 1 y \\\\\n",
        " $c=1.2$ es un valor que acota a la función $g(u)= \\left(\\frac{1}{u^3}-\\frac{1}{u^2} \\right) \\left(1+(\\frac{1}{u}-1)^2 \\right)^{-2}  $.\n",
        "\n",
        "Trabajaremos con una variable aleatoria $XY$ que se distribuye aleatoriamente en $\\Omega$\n",
        "\n",
        "$$f(x,y)= \\left\\{ \\begin{array}{lcc} \\dfrac{1}{c(b-a)} & si &  a\\leq x \\leq b,\\ 0\\leq y \\leq c\\\\ \\qquad 0 &  & Otro\\ caso  \\end{array} \\right.$$\n",
        "\n",
        "\n"
      ],
      "metadata": {
        "id": "ZAm_WnjBs53W"
      },
      "id": "ZAm_WnjBs53W"
    },
    {
      "cell_type": "markdown",
      "source": [
        "Entonces la probabilidad de que el vector XY caiga por debajo de la curva $g(x)$ es:\n",
        "\n",
        "$$p = \\frac{I}{c(b-a)}$$\n",
        "\n",
        "y si denotamos por $N_H$ el número de puntos que ***aciertan*** por debajo de la curva, se tiene que $\\hat p = \\frac{N_H}{N}$, y podemos estimar la integral de la manera siguiente:\n",
        "\n",
        "$$I  \\approx Θ_1 = c(b-a)\\frac{N_H}{N}$$"
      ],
      "metadata": {
        "id": "PZGu-QTRzWVv"
      },
      "id": "PZGu-QTRzWVv"
    },
    {
      "cell_type": "markdown",
      "id": "4d3899f3",
      "metadata": {
        "id": "4d3899f3"
      },
      "source": [
        "**PASO 2**. Formule la distribución de probabilidad de cada variable."
      ]
    },
    {
      "cell_type": "markdown",
      "id": "fefa1334",
      "metadata": {
        "id": "fefa1334"
      },
      "source": [
        "\n",
        "$$f(x,y)= \\left\\{ \\begin{array}{lcc} \\dfrac{1}{c(b-a)} & si &  a\\leq x \\leq b,\\ 0\\leq y \\leq c\\\\ \\qquad 0 &  & Otro\\ caso  \\end{array} \\right.$$\n"
      ]
    },
    {
      "cell_type": "markdown",
      "id": "fd02116a",
      "metadata": {
        "id": "fd02116a"
      },
      "source": [
        "**PASO 3**. Enumere la distribución acumulada de probabilidad de cada variable."
      ]
    },
    {
      "cell_type": "markdown",
      "id": "59e252c6",
      "metadata": {
        "id": "59e252c6"
      },
      "source": [
        "y su funcion de distribución\n",
        "\n",
        "$$F(x,y)= \\left\\{ \\begin{array}{lcc} \\qquad 0 & si & x \\leq a,\\ y\\leq 0  \\\\\n",
        " \\dfrac{(x-a)(y)}{c(b-a)} & si &   a\\leq x \\leq b,\\ 0\\leq y \\leq c\\\\\n",
        "  \\qquad 1 &  &  b\\leq x ,\\ c\\leq y \\end{array} \\right.$$"
      ]
    },
    {
      "cell_type": "markdown",
      "id": "4852dcac",
      "metadata": {
        "id": "4852dcac"
      },
      "source": [
        "**PASO 4**. Establezca el intervalo de números aleatorios correspondiente a cada valor de cada una de las variables."
      ]
    },
    {
      "cell_type": "markdown",
      "id": "905db069",
      "metadata": {
        "id": "905db069"
      },
      "source": [
        "*En este caso trabajamos con una variable continua*"
      ]
    },
    {
      "cell_type": "markdown",
      "id": "edb6b074",
      "metadata": {
        "id": "edb6b074"
      },
      "source": [
        "**PASO 5**. Genere números aleatorios."
      ]
    },
    {
      "cell_type": "code",
      "execution_count": null,
      "id": "7d56c432",
      "metadata": {
        "id": "7d56c432"
      },
      "outputs": [],
      "source": [
        "import numpy as np\n",
        "import random\n",
        "u1 = random.uniform(0,1)\n",
        "u2 = random.uniform(0,1)"
      ]
    },
    {
      "cell_type": "markdown",
      "id": "f38f3396",
      "metadata": {
        "id": "f38f3396"
      },
      "source": [
        "**PASO 6**. Simule un lanzamiento."
      ]
    },
    {
      "cell_type": "markdown",
      "id": "a68ba17e",
      "metadata": {
        "id": "a68ba17e"
      },
      "source": [
        "Sean \\\\\n",
        " X = (b-a)\\*u1 + a, En donde el valor de b y a son los limites de la integral \\\\\n",
        " Y = c\\*u2\n",
        "\n",
        "En este caso el punto aleatorio está dado por (X,Y)\n",
        "\n",
        "Si g(X) > c\\*u2, En donde el valor de c es la función que acota la función a integrar, significa que el punto está por debajo de la curva $g(x)$\n",
        "\n",
        "Lo cual tomamos como **Acierto = 1**\n",
        "\n",
        "Si g(X) <= c\\*u2 significa que el punto está por arriba de $g(x)$\n",
        "\n",
        " **Error = 0**"
      ]
    },
    {
      "cell_type": "markdown",
      "id": "d270399e",
      "metadata": {
        "id": "d270399e"
      },
      "source": [
        "**PASO 7**. Obtenga la gráfica de estabilización que indica que el tamaño de muestra utilizado es suficiente para\n",
        "garantizar la convergencia del resultado."
      ]
    },
    {
      "cell_type": "code",
      "execution_count": 1,
      "id": "2fd22e33",
      "metadata": {
        "id": "2fd22e33"
      },
      "outputs": [],
      "source": [
        "import numpy as np\n",
        "import random\n",
        "import math\n",
        "import matplotlib.pyplot as plt"
      ]
    },
    {
      "cell_type": "code",
      "execution_count": 5,
      "id": "32719c0f",
      "metadata": {
        "id": "32719c0f"
      },
      "outputs": [],
      "source": [
        "def g(u): #Definimos la función a la cual le queremos calcular la integral en cierto intervalo.\n",
        "    return (u**(-3)-u**(-2))*((1+(1/u-1)**2)**(-2))"
      ]
    },
    {
      "cell_type": "code",
      "execution_count": 15,
      "id": "423546a4",
      "metadata": {
        "id": "423546a4"
      },
      "outputs": [],
      "source": [
        "#La siguinte función representa un experimento de n ensayos\n",
        "def experimento(n):\n",
        "  a=0 #limite inferior de la integral\n",
        "  b=1 #limite superior de la integral\n",
        "  c = 1.2 #Funcion que acota por arriba la funcion a integrar.\n",
        "  aciertos = 0 #Contador de la cantidad de veces que se cumple la condicion de monte carlo acierto y error.\n",
        "  area=[] #Guardara las aproximaciones del área bajo la curva de la función.\n",
        "  ensayos=[]\n",
        "  for i in range(1,n+1):\n",
        "      u1=(random.random()) #Generamos un número aleatorio en (0,1)\n",
        "      u2=(random.random()) #Generamos un segundo número aleatorio e independiente en (0,1)\n",
        "      x = (b-a)*u1+a #Obtenemos un número aleatorio entre (a,b)\n",
        "\n",
        "      if g(x) > c*u2: #Comparamos la altura de g(X) contra Y=c*u2 para saber si hay un acierto o error\n",
        "        aciertos += 1 #Si se cumple la condición, aumenta el numero de aciertos\n",
        "      ensayos.append(i)\n",
        "      area.append(c*(b-a)*aciertos/i) #Recordando que el área bajo la curva de esa integral nos da \\pi/4, entonces necesitamos multiplicar\n",
        "      #el área bajo la curva en cada iteración por 4 para aproximarnos al valor de pi.\n",
        "  return area #Regresamos una lista de las aproxiamciones al valor de pi en la iteracion i."
      ]
    },
    {
      "cell_type": "code",
      "execution_count": 16,
      "id": "548249d8",
      "metadata": {
        "id": "548249d8"
      },
      "outputs": [],
      "source": [
        "exp = experimento(2000)"
      ]
    },
    {
      "cell_type": "code",
      "execution_count": 17,
      "id": "566325f4",
      "metadata": {
        "id": "566325f4",
        "colab": {
          "base_uri": "https://localhost:8080/"
        },
        "outputId": "3912627b-c56d-4187-d246-aabb82086a29"
      },
      "outputs": [
        {
          "output_type": "execute_result",
          "data": {
            "text/plain": [
              "0.4514479892846368"
            ]
          },
          "metadata": {},
          "execution_count": 17
        }
      ],
      "source": [
        "np.mean(exp)"
      ]
    },
    {
      "cell_type": "code",
      "execution_count": 18,
      "id": "ef68f87c",
      "metadata": {
        "id": "ef68f87c",
        "colab": {
          "base_uri": "https://localhost:8080/",
          "height": 472
        },
        "outputId": "0e1deed4-6991-4f9d-c277-f4b00b61626b"
      },
      "outputs": [
        {
          "output_type": "display_data",
          "data": {
            "text/plain": [
              "<Figure size 640x480 with 1 Axes>"
            ],
            "image/png": "[encoded data removed]"
          },
          "metadata": {}
        }
      ],
      "source": [
        "plt.plot(exp)\n",
        "plt.xlabel('iteraciones')\n",
        "plt.ylabel('Aprox. de Pi')\n",
        "plt.title('Aproximación de Pi por MC')\n",
        "plt.show()"
      ]
    },
    {
      "cell_type": "markdown",
      "id": "f596fcd1",
      "metadata": {
        "id": "f596fcd1"
      },
      "source": [
        "**PASO 8**. Replique el modelo."
      ]
    },
    {
      "cell_type": "code",
      "execution_count": 19,
      "id": "b237f0d0",
      "metadata": {
        "id": "b237f0d0"
      },
      "outputs": [],
      "source": [
        "def simulacion_pi(repeticiones):\n",
        "    List = []\n",
        "    for i in range(repeticiones):\n",
        "        List.append(np.mean(experimento(2000)))\n",
        "    return List"
      ]
    },
    {
      "cell_type": "code",
      "execution_count": 20,
      "id": "d060db89",
      "metadata": {
        "id": "d060db89"
      },
      "outputs": [],
      "source": [
        "N=100\n",
        "simulacion = simulacion_pi(N)"
      ]
    },
    {
      "cell_type": "code",
      "execution_count": 21,
      "id": "cc0b958d",
      "metadata": {
        "id": "cc0b958d",
        "colab": {
          "base_uri": "https://localhost:8080/",
          "height": 472
        },
        "outputId": "86f36e80-a017-4d96-f06e-0fcaf4d1bb6d"
      },
      "outputs": [
        {
          "output_type": "display_data",
          "data": {
            "text/plain": [
              "<Figure size 640x480 with 1 Axes>"
            ],
            "image/png": "[encoded data removed]"
          },
          "metadata": {}
        }
      ],
      "source": [
        "plt.hist(simulacion)\n",
        "plt.xlabel('iteraciones')\n",
        "plt.ylabel('p')\n",
        "plt.title('Probabilidad')\n",
        "plt.show()"
      ]
    },
    {
      "cell_type": "markdown",
      "id": "6e9bd469",
      "metadata": {
        "id": "6e9bd469"
      },
      "source": [
        "**PASO 9**. Tomamos el valor de Pi como la media de las Réplicas del modelo y calculamos su desviación estándar."
      ]
    },
    {
      "cell_type": "code",
      "execution_count": 22,
      "id": "dbeb0461",
      "metadata": {
        "id": "dbeb0461",
        "colab": {
          "base_uri": "https://localhost:8080/"
        },
        "outputId": "2e51d1c7-8624-474a-a160-8c5c7f4a5b9a"
      },
      "outputs": [
        {
          "output_type": "stream",
          "name": "stdout",
          "text": [
            "0.4998726043953099 0.0004529409640741734 0.02128240973372549\n"
          ]
        }
      ],
      "source": [
        "media = np.mean(simulacion); var = np.var(simulacion); desv= np.std(simulacion)\n",
        "print(media, var, desv)"
      ]
    },
    {
      "cell_type": "markdown",
      "id": "db8776d2",
      "metadata": {
        "id": "db8776d2"
      },
      "source": [
        "**PASO 10**. Halle el intervalo de confianza de la probabilidad de queaparezcan dos caras lanzando tres veces una moneda\n",
        "al aire con un nivel de confianza del $95 \\%$."
      ]
    },
    {
      "cell_type": "markdown",
      "source": [
        "\\begin{equation*}\n",
        "\\overline{x}- Z_{\\frac{\\alpha}{2}}  \\cdot \\frac{S}{\\sqrt{N}} < \\mu < \\overline{x}+ Z_{\\frac{\\alpha}{2}}  \\cdot \\frac{S}{\\sqrt{N}}\n",
        "\\end{equation*}"
      ],
      "metadata": {
        "id": "4yKy_GJV6R0M"
      },
      "id": "4yKy_GJV6R0M"
    },
    {
      "cell_type": "code",
      "execution_count": 23,
      "id": "e5132329",
      "metadata": {
        "id": "e5132329",
        "colab": {
          "base_uri": "https://localhost:8080/"
        },
        "outputId": "35178a93-d1a2-442e-ce10-b69f5284d522"
      },
      "outputs": [
        {
          "output_type": "stream",
          "name": "stdout",
          "text": [
            "Entonces:  0.49570132873707723 < μ < 0.5040438800535425 \n",
            "Con un 95% de confianza\n"
          ]
        }
      ],
      "source": [
        "from scipy.stats import norm #Importamos la libreria para poder obtener el valor de Z.\n",
        "alpha = 1 - 0.95 #Alpha es igual a 1 - la confianza del intervalo\n",
        "z_alpha_2 = norm.ppf(1-alpha / 2) #Mandamos a pedir el valor de Z para \\alpha/2, sabemos que si es el 95% de confienza, Z esta cercano al 1.96.\n",
        "l_inferior = media - z_alpha_2 * (desv / math.sqrt(N)) #Sacamos limite inferior por la formula\n",
        "l_superior = media + z_alpha_2 * (desv / math.sqrt(N)) #Sacamos limite superior por la formula\n",
        "print(\"Entonces: \", l_inferior, \"< \\u03BC <\", l_superior, \"\\nCon un 95% de confianza\") #El intervalo en donde se encuentra el valor real a una confienza del 95%"
      ]
    },
    {
      "cell_type": "code",
      "source": [],
      "metadata": {
        "id": "oTdTvkRu6tg3"
      },
      "id": "oTdTvkRu6tg3",
      "execution_count": 23,
      "outputs": []
    }
  ],
  "metadata": {
    "kernelspec": {
      "display_name": "Python 3 (ipykernel)",
      "language": "python",
      "name": "python3"
    },
    "language_info": {
      "codemirror_mode": {
        "name": "ipython",
        "version": 3
      },
      "file_extension": ".py",
      "mimetype": "text/x-python",
      "name": "python",
      "nbconvert_exporter": "python",
      "pygments_lexer": "ipython3",
      "version": "3.7.3"
    },
    "colab": {
      "provenance": [],
      "include_colab_link": true
    }
  },
  "nbformat": 4,
  "nbformat_minor": 5
}