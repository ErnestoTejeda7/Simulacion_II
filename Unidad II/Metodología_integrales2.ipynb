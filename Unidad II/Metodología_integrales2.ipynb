{
 "cells": [
  {
   "cell_type": "markdown",
   "id": "a5cc0a87",
   "metadata": {},
   "source": [
    "# Aproximación a INTEGRALES por medio de Monte Carlo Acierto y Error (Hit or Miss) con METODOLOGÍA"
   ]
  },
  {
   "cell_type": "markdown",
   "id": "0e218d98",
   "metadata": {},
   "source": [
    "### 1. Identifique las variables \n",
    "\n",
    "Aquellas cuyo comportamiento define el comportamiento o la evoución global del sistema real."
   ]
  },
  {
   "cell_type": "markdown",
   "id": "3ebcd0f2",
   "metadata": {},
   "source": [
    "### 2. Determine la distribución de probabilidad\n",
    "\n",
    "Elija el tipo de distribución de probabilidad que mejor defina el comportamiento aleatorio de cada una de las variables del sistema identificadas en el paso anterior."
   ]
  },
  {
   "cell_type": "markdown",
   "id": "803801d5",
   "metadata": {},
   "source": [
    "### 3. Modele las variables aleatorias \n",
    "\n",
    "Cosntruya un modelo fiel de la aleatoriedad de las variables del sistema. Simular el comportamiento del sistema implica generar muestras aleatorias de cada variable que sigan fielmente la distribución de probabilidad correspondiente."
   ]
  },
  {
   "cell_type": "markdown",
   "id": "33709223",
   "metadata": {},
   "source": [
    "### 4. Defina el modelo del sistema y los objetivos de la simulación \n",
    "\n",
    "Fije los objetivos y diseñe un modelo del sistema real que abstraiga sus propiedades más relevantes. Todo error en el modelo (o su implementación computacional) puede dar lugar a conclusiones equivocadas. \n",
    "\n",
    "Antes de experimentar con el modelo, asegurarse de que refleja fielmente el sistema real **validando** el mismo a partir de datos reales, para ello compare los resultados obtenidos de la simulación con los producidos por el sistema."
   ]
  },
  {
   "cell_type": "markdown",
   "id": "7f853065",
   "metadata": {},
   "source": [
    "### 5. Diseñe el experimento\n",
    "\n",
    "Diseñe un experimento así como las ejecuciones concretas del mismo, los escenarios que desea estudiar para alcanzar los objetivos fijados. El experimento consiste en generar valores de las variables cuyo comportamiento define el comportamiento del sistema y analizar este ante dichos valores."
   ]
  },
  {
   "cell_type": "markdown",
   "id": "15ae61c8",
   "metadata": {},
   "source": [
    "### 6. Repita el experimento $n$ veces \n",
    "\n",
    "Así dispondrá de $n$ observaciones sobre el comportamiento del sistema, lo que permitirá entender su funcionamiento así como evaluar el desempeño del mismo frente a los diversos escenarios establecidos.\n",
    "\n",
    "El **método Monte Carlo** se basa en la **Ley Fuerte de los Grandes Números** y el **Teorema del Límite Central**."
   ]
  },
  {
   "cell_type": "markdown",
   "id": "564ca694",
   "metadata": {},
   "source": [
    "# **Por simulación: Construimos el modelo en varios pasos.**"
   ]
  },
  {
   "cell_type": "markdown",
   "id": "fbbc8571",
   "metadata": {},
   "source": [
    "**PASO 1**. Defina las variables que intervienen en el modelo."
   ]
  },
  {
   "cell_type": "markdown",
   "id": "019bc684-77fc-4b5d-8a93-e2134013d971",
   "metadata": {},
   "source": [
    "Definimos $u_1, u_2 \\sim U(0,1)$, como varibles aleatorias que nos sirven generar muestras aleatorias de una distribución específica, lo que nos servira para estimar la integral antes planteada."
   ]
  },
  {
   "cell_type": "markdown",
   "id": "4d3899f3",
   "metadata": {},
   "source": [
    "**PASO 2**. Formule la distribución de probabilidad de cada variable."
   ]
  },
  {
   "cell_type": "markdown",
   "id": "8fde011a-cd9e-4c51-b611-29ddd913ab0f",
   "metadata": {},
   "source": [
    "$$\n",
    "f(u_1)= \n",
    "\\begin{cases} \n",
    "1 & \\text{si } 0 \\leq u_1 \\leq 1 \\\\\n",
    "0 & \\text{en cualquier otro lugar}\n",
    "\\end{cases}\n",
    "$$\n",
    "\n",
    "$$\n",
    "f(u_2) = \n",
    "\\begin{cases} \n",
    "1 & \\text{si } 0 \\leq u_2 \\leq 1 \\\\\n",
    "0 & \\text{en cualquier otro lugar}\n",
    "\\end{cases}\n",
    "$$"
   ]
  },
  {
   "cell_type": "markdown",
   "id": "fd02116a",
   "metadata": {},
   "source": [
    "**PASO 3**. Enumere la distribución acumulada de probabilidad de cada variable."
   ]
  },
  {
   "cell_type": "markdown",
   "id": "2fccd3c3-6ba0-4dae-ae20-90e22339fd77",
   "metadata": {},
   "source": [
    "$$\n",
    "F(u_1) = \n",
    "\\begin{cases} \n",
    "0 & \\text{si } u_1 < 0 \\\\\n",
    "u_1 & \\text{si } 0 \\leq u_1 \\leq 1 \\\\\n",
    "1 & \\text{si } u_1 > 1\n",
    "\\end{cases}\n",
    "$$\n",
    "\n",
    "$$\n",
    "F(u_2) = \n",
    "\\begin{cases} \n",
    "0 & \\text{si } u_2 < 0 \\\\\n",
    "u_2 & \\text{si } 0 \\leq u_2\\leq 1 \\\\\n",
    "1 & \\text{si } u_2 > 1\n",
    "\\end{cases}\n",
    "$$"
   ]
  },
  {
   "cell_type": "markdown",
   "id": "4852dcac",
   "metadata": {},
   "source": [
    "**PASO 4**. Establezca el intervalo de números aleatorios correspondiente a cada valor de cada una de las variables."
   ]
  },
  {
   "cell_type": "markdown",
   "id": "28749df7-394d-4f67-acf2-9d3416b39cb8",
   "metadata": {},
   "source": [
    "|    Variables |**u1**|**u2**|\n",
    "|------|-------|----------|\n",
    "|Intervalo|     (0,1)   |  (0,1)  |\n",
    "\n"
   ]
  },
  {
   "cell_type": "markdown",
   "id": "edb6b074",
   "metadata": {},
   "source": [
    "**PASO 5**. Genere números aleatorios."
   ]
  },
  {
   "cell_type": "code",
   "execution_count": 47,
   "id": "f63ca1d9-96fa-481f-92a2-8ebb1a68973b",
   "metadata": {},
   "outputs": [],
   "source": [
    "import numpy as np\n",
    "import random\n",
    "u1 = random.uniform(0,1)\n",
    "u2 = random.uniform(0,1)"
   ]
  },
  {
   "cell_type": "markdown",
   "id": "f38f3396",
   "metadata": {},
   "source": [
    "**PASO 6**. Simule un lanzamiento de un dardo."
   ]
  },
  {
   "cell_type": "markdown",
   "id": "a68ba17e",
   "metadata": {},
   "source": [
    "Sea X = (b-a)*u1 + a, En donde el valor de b y a son los limites de la integral o bien, el intervalo de interes de la función.\n",
    "\n",
    "\n",
    "Si g(X) > c*u2, En donde el valor de c es la función que acota la función a integrar\n",
    "\n",
    "¿Si ocurre lo de arriba? => **Acierto = 1**\n",
    "\n",
    "\n",
    "\n",
    "\n",
    "Si g(X) <= c*u2\n",
    "\n",
    "¿Si ocurre lo de arriba? => **Acierto =0**"
   ]
  },
  {
   "cell_type": "markdown",
   "id": "d270399e",
   "metadata": {},
   "source": [
    "**PASO 7**. Obtenga la gráfica de estabilización que indica que el tamaño de muestra utilizado es suficiente para \n",
    "garantizar la convergencia del resultado."
   ]
  },
  {
   "cell_type": "code",
   "execution_count": 48,
   "id": "2fd22e33",
   "metadata": {},
   "outputs": [],
   "source": [
    "import math\n",
    "import matplotlib.pyplot as plt"
   ]
  },
  {
   "cell_type": "markdown",
   "id": "71039520-2038-462c-81ab-d68ced326944",
   "metadata": {},
   "source": [
    "# **Definimos la función a integrar en cierto intervalo**"
   ]
  },
  {
   "cell_type": "code",
   "execution_count": 49,
   "id": "32719c0f",
   "metadata": {},
   "outputs": [],
   "source": [
    "def funcion(x): #Definimos la función a la cual le queremos calcular la integral en cierto intervalo.\n",
    "    return math.exp(math.exp(x))"
   ]
  },
  {
   "cell_type": "markdown",
   "id": "4c6624e0-b601-4133-8081-9c88bdd5d54f",
   "metadata": {},
   "source": [
    "Como ejemplo utilizamos la función:\n",
    "\\begin{equation*}\n",
    "\\begin{aligned}\n",
    " I = \\int_0^1 exp(e^x) \\quad dx\n",
    "\\end{aligned}\n",
    "\\end{equation*}"
   ]
  },
  {
   "cell_type": "markdown",
   "id": "ee7893df-6cc5-40bf-96eb-5c1657ca5db9",
   "metadata": {},
   "source": [
    "El siguiente codigo aplica el método de acierto y erro para calcular la integral antes definida, recordando que el limite inferior se denota por **a** y el limite superir por **b**. Además que **c** es la función en este caso constante que acota por arriba a nuestra función a integrar. "
   ]
  },
  {
   "cell_type": "code",
   "execution_count": 50,
   "id": "423546a4",
   "metadata": {},
   "outputs": [],
   "source": [
    "def experimentos(n): #Definimos una funcion que realizara \n",
    "    a = 0 #limite inferior de la integral\n",
    "    b = 1 #limite superior de la integral\n",
    "    c = 16 #Funcion que acota por arriba la funcion a integrar.\n",
    "    aciertos = 0 #Contador de la cantidad de veces que se cumple la condicion de monte carlo acierto y error.\n",
    "    area = [] #Guardara las aproximaciones del área bajo la curva de la función.\n",
    "    ensayos = [] \n",
    "    error = 10E-3\n",
    "    band=1\n",
    "    estable = 0\n",
    "    estabilidad = 0\n",
    "    \n",
    "    for i in range(1, n+1):\n",
    "        u1 = random.random() #Generamos un número aleatorio en (0,1)\n",
    "        u2 = random.random() #Generamos un segundo número aleatorio e independiente en (0,1)\n",
    "        x = (b - a) * u1 + a #Utilizamos la tranformada inversa para traslar el U1 en el intervalo (0,1) al intervalo de interes (intervalo en donde se integra)\n",
    "        g_x = funcion(x) #Evaluamos la función a integrar en el aleatorio X generado anteriormente. \n",
    "        if g_x > c * u2: #Condición de Monte Carlo de Acierto y Error. \n",
    "            aciertos += 1 #Si se cumple la condición anterior, aumenta el contador el 1.\n",
    "        ensayos.append(i) #Se va guardando en una lista la iteración i.\n",
    "        area.append(c * (b - a) * aciertos / i) #Se va guardadndo la aproximación a la integral en la iteración i.\n",
    "        \n",
    "        #CONDICIÓN DE ESTABILIDAD\n",
    "        dif = abs(area[i-1] - area[i - 2])\n",
    "        if dif < error:\n",
    "            estabilidad += 1\n",
    "        else:\n",
    "            estabilidad = 0\n",
    "        \n",
    "        if estabilidad > 100 and band:\n",
    "            estable = i\n",
    "            band = 0            \n",
    "    \n",
    "            \n",
    "    return area, estable"
   ]
  },
  {
   "cell_type": "code",
   "execution_count": 51,
   "id": "0d2847cf",
   "metadata": {},
   "outputs": [],
   "source": [
    "exp = experimentos(1500)#Hara el experimento antes descrito 1500 veces, es decir, nos dara 1500 aproximaciones \n",
    "#al valor de la integral para ver cuando se logra estabilizar."
   ]
  },
  {
   "cell_type": "code",
   "execution_count": 52,
   "id": "80e6e939-4848-4aa8-bef6-80d7640225c2",
   "metadata": {},
   "outputs": [
    {
     "data": {
      "text/plain": [
       "6.737521697053159"
      ]
     },
     "execution_count": 52,
     "metadata": {},
     "output_type": "execute_result"
    }
   ],
   "source": [
    "np.mean(exp[0]) #Saca la media de los experimentos, eso nos dará una idea de la aproximación al valor de la integral de la función en (a,b)."
   ]
  },
  {
   "cell_type": "code",
   "execution_count": 53,
   "id": "ef68f87c",
   "metadata": {},
   "outputs": [
    {
     "data": {
      "image/png": "[encoded data removed]",
      "text/plain": [
       "<Figure size 640x480 with 1 Axes>"
      ]
     },
     "metadata": {},
     "output_type": "display_data"
    }
   ],
   "source": [
    "plt.plot(exp[0]) #Grafica la lista de aproximaciones de acuerdo a la cantidad de experimentos realizados.\n",
    "plt.xlabel('iteraciones')\n",
    "plt.ylabel('Aproximación en la iteración i')\n",
    "plt.title('Aproximación a la integral')\n",
    "\n",
    "\n",
    "\n",
    "# Agrega una línea vertical e donde comienza el estado estable.\n",
    "plt.axvline(x=exp[1], color='red', linestyle='--', label=f'Estado Estable en {exp[1]}')\n",
    "\n",
    "plt.legend()  # Muestra la leyenda si es necesario\n",
    "plt.show()"
   ]
  },
  {
   "cell_type": "markdown",
   "id": "f596fcd1",
   "metadata": {},
   "source": [
    "**PASO 8**. Replique el modelo."
   ]
  },
  {
   "cell_type": "code",
   "execution_count": 54,
   "id": "b237f0d0",
   "metadata": {},
   "outputs": [],
   "source": [
    "def valor(repeticiones): #Esta función hara la simulacion anterior muchas veces, es decir, hará \"repeticiones\" cantidad de veces\n",
    "    Area = []\n",
    "    for i in range(repeticiones):\n",
    "        Area.append(np.mean(experimentos(exp[1])[0])) #Calcula la media de los experiementos unas N (repeticiones) cantidad de veces.\n",
    "    return Area #Nos regresa N (repeticiones) medias de 750 experiemntos cada una."
   ]
  },
  {
   "cell_type": "code",
   "execution_count": 55,
   "id": "d060db89",
   "metadata": {},
   "outputs": [],
   "source": [
    "N=1000\n",
    "simulacion = valor(N)"
   ]
  },
  {
   "cell_type": "code",
   "execution_count": 56,
   "id": "7de3bcbd-40b0-4a15-8671-89309c3ae34e",
   "metadata": {},
   "outputs": [
    {
     "data": {
      "text/plain": [
       "6.317385103220322"
      ]
     },
     "execution_count": 56,
     "metadata": {},
     "output_type": "execute_result"
    }
   ],
   "source": [
    "np.mean(simulacion) #Saca la media de las N simulaciones realizadas, eso nos dará una mejor de la aproximación al valor de la integral."
   ]
  },
  {
   "cell_type": "code",
   "execution_count": 57,
   "id": "cc0b958d",
   "metadata": {},
   "outputs": [
    {
     "data": {
      "image/png": "[encoded data removed]",
      "text/plain": [
       "<Figure size 640x480 with 1 Axes>"
      ]
     },
     "metadata": {},
     "output_type": "display_data"
    }
   ],
   "source": [
    "plt.hist(simulacion, bins=75) #Grafica las frecuencias de la aproximación al valor de la integral de las N simualciones con exp[1] experiementos cada una.\n",
    "plt.xlabel('iteraciones')\n",
    "plt.ylabel('Frecuencia')\n",
    "plt.title('Aproximación a la integral')\n",
    "plt.show()"
   ]
  },
  {
   "cell_type": "markdown",
   "id": "6e9bd469",
   "metadata": {},
   "source": [
    "**PASO 9**. Calcule la media del área bajo la curva de la función y su desviación estándar."
   ]
  },
  {
   "cell_type": "code",
   "execution_count": 58,
   "id": "dbeb0461",
   "metadata": {},
   "outputs": [],
   "source": [
    "media = np.mean(simulacion) #Calcula la media de esas N simulaciones\n",
    "var = np.var(simulacion) #Calcula la varianza de esas N simulaciones\n",
    "desv = np.std(simulacion) #Calcula la desvaicion de esas N simulaciones"
   ]
  },
  {
   "cell_type": "markdown",
   "id": "db8776d2",
   "metadata": {},
   "source": [
    "**PASO 10**. Halle el intervalo de confianza del valor de la integral con un nivel de confianza del $95 \\%$.\n",
    "\\begin{equation*}\n",
    "\\overline{x}- Z_{\\frac{\\alpha}{2}}  \\cdot \\frac{S}{\\sqrt{N}} < \\mu < \\overline{x}+ Z_{\\frac{\\alpha}{2}}  \\cdot \\frac{S}{\\sqrt{N}}\n",
    "\\end{equation*}"
   ]
  },
  {
   "cell_type": "code",
   "execution_count": 59,
   "id": "e5132329",
   "metadata": {},
   "outputs": [
    {
     "name": "stdout",
     "output_type": "stream",
     "text": [
      "Entonces:  6.29547857305473 < μ < 6.339291633385914\n"
     ]
    }
   ],
   "source": [
    "from scipy.stats import norm #Importamos la libreria para poder obtener el valor de Z.\n",
    "alpha = 1 - 0.95 #Alpha es igual a 1 - la confianza del intervalo\n",
    "z_alpha_2 = norm.ppf(1-alpha / 2) #Mandamos a pedir el valor de Z para \\alpha/2, sabemos que si es el 95% de confienza, Z esta cercano al 1.96.\n",
    "l_inferior = media - z_alpha_2 * (desv / math.sqrt(N)) #Sacamos limite inferior por la formula\n",
    "l_superior = media + z_alpha_2 * (desv / math.sqrt(N)) #Sacamos limite superior por la formula\n",
    "print(\"Entonces: \", l_inferior, \"< \\u03BC <\", l_superior) #El intervalo en donde se encuentra el valor real a una confienza del 95%"
   ]
  },
  {
   "cell_type": "code",
   "execution_count": null,
   "id": "efbbb509-9f33-4857-944e-4dd9efdd4b29",
   "metadata": {},
   "outputs": [],
   "source": []
  },
  {
   "cell_type": "code",
   "execution_count": null,
   "id": "f7a697eb",
   "metadata": {},
   "outputs": [],
   "source": []
  }
 ],
 "metadata": {
  "kernelspec": {
   "display_name": "Python 3 (ipykernel)",
   "language": "python",
   "name": "python3"
  },
  "language_info": {
   "codemirror_mode": {
    "name": "ipython",
    "version": 3
   },
   "file_extension": ".py",
   "mimetype": "text/x-python",
   "name": "python",
   "nbconvert_exporter": "python",
   "pygments_lexer": "ipython3",
   "version": "3.9.7"
  }
 },
 "nbformat": 4,
 "nbformat_minor": 5
}
